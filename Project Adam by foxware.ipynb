{
 "cells": [
  {
   "cell_type": "markdown",
   "metadata": {},
   "source": [
    "# DEVELOPED BY FOXWARE\n",
    "   # Usage"
   ]
  },
  {
   "cell_type": "raw",
   "metadata": {},
   "source": [
    "step 1 - Enter number of peers in the variable \"numOfPeers\"(Counting from 1,without answerkey and head names )(1st row)\n",
    "step 2 - Enter number of questions in the variable \"questions\"(1st row)\n",
    "step 3 - Enter your csv file link in \"chemistry = pd.read_csv('Example.csv')\"(3rd row)\n",
    "step 4 - Scroll down to bottom and enter your file name(Example.csv) in \"df2.to_csv(\"FOXWARE.csv\")\"\n",
    "step 5 - click on Cell option above and click Run all \n",
    "\n",
    "COngratulations! Result has downloaded and you call also see them at the bottom of this page."
   ]
  },
  {
   "cell_type": "raw",
   "metadata": {},
   "source": [
    "Format (Must): \n",
    "Timestamp|Email Address|Score|Name of the Student|INSTRUCTION|questions......."
   ]
  },
  {
   "cell_type": "markdown",
   "metadata": {},
   "source": [
    "# Two input variable"
   ]
  },
  {
   "cell_type": "code",
   "execution_count": 1,
   "metadata": {},
   "outputs": [],
   "source": [
    "numOfPeers=10      # Enter number of students\n",
    "numOfquestions=4   # Enter number of questions"
   ]
  },
  {
   "cell_type": "code",
   "execution_count": 2,
   "metadata": {},
   "outputs": [],
   "source": [
    "import pandas as pd\n",
    "import numpy as np"
   ]
  },
  {
   "cell_type": "code",
   "execution_count": 3,
   "metadata": {},
   "outputs": [],
   "source": [
    "chemistry = pd.read_csv('Example.csv')"
   ]
  },
  {
   "cell_type": "code",
   "execution_count": 4,
   "metadata": {},
   "outputs": [],
   "source": [
    "df=pd.DataFrame(chemistry)\n",
    "all_columns = list(df)\n",
    "df[all_columns] = df[all_columns].astype(str)"
   ]
  },
  {
   "cell_type": "code",
   "execution_count": 5,
   "metadata": {},
   "outputs": [],
   "source": [
    "numOfColumns=numOfquestions+5\n",
    "marks=[];\n",
    "for i in range(0,(numOfPeers)):\n",
    "    a=0;\n",
    "    for j in range(5,numOfColumns):\n",
    "        if df.iloc[i,j]==df.iloc[numOfPeers,j]:\n",
    "            a+=4\n",
    "        elif df.iloc[i,j]=='nan':\n",
    "            a+=0\n",
    "        elif df.iloc[i,j]!=df.iloc[numOfPeers,j]:\n",
    "            a-=1\n",
    "    marks.append(a)\n",
    "\n",
    "    "
   ]
  },
  {
   "cell_type": "code",
   "execution_count": 6,
   "metadata": {},
   "outputs": [],
   "source": [
    "df2=pd.DataFrame()"
   ]
  },
  {
   "cell_type": "code",
   "execution_count": 7,
   "metadata": {},
   "outputs": [],
   "source": [
    "df2[\"Students\"]=df[\"Name of the student\"]\n",
    "df2=df2.drop([numOfPeers])"
   ]
  },
  {
   "cell_type": "code",
   "execution_count": 8,
   "metadata": {},
   "outputs": [],
   "source": [
    "df2[\"Marks\"]=marks"
   ]
  },
  {
   "cell_type": "code",
   "execution_count": 9,
   "metadata": {},
   "outputs": [],
   "source": [
    "df2.to_csv(\"exampleresult.csv\") # File will be downloaded"
   ]
  },
  {
   "cell_type": "markdown",
   "metadata": {},
   "source": [
    "# Your result"
   ]
  },
  {
   "cell_type": "code",
   "execution_count": 10,
   "metadata": {
    "scrolled": true
   },
   "outputs": [],
   "source": [
    "df2"
   ]
  }
 ],
 "metadata": {
  "kernelspec": {
   "display_name": "Python 3",
   "language": "python",
   "name": "python3"
  },
  "language_info": {
   "codemirror_mode": {
    "name": "ipython",
    "version": 3
   },
   "file_extension": ".py",
   "mimetype": "text/x-python",
   "name": "python",
   "nbconvert_exporter": "python",
   "pygments_lexer": "ipython3",
   "version": "3.7.6"
  }
 },
 "nbformat": 4,
 "nbformat_minor": 4
}
